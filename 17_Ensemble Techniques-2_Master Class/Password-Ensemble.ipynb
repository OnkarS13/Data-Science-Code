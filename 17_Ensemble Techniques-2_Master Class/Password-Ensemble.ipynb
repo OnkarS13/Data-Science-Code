{
 "cells": [
  {
   "cell_type": "code",
   "execution_count": 1,
   "id": "49cfcca9",
   "metadata": {},
   "outputs": [],
   "source": [
    "# Import Libraries\n",
    "import pandas as pd\n",
    "import numpy as np\n",
    "import category_encoders as ce # pip install category_encoders to install\n",
    "import matplotlib.pyplot as plt\n",
    "import warnings\n",
    "warnings.filterwarnings('ignore')"
   ]
  },
  {
   "cell_type": "code",
   "execution_count": 2,
   "id": "b35a3700",
   "metadata": {},
   "outputs": [
    {
     "data": {
      "text/html": [
       "<div>\n",
       "<style scoped>\n",
       "    .dataframe tbody tr th:only-of-type {\n",
       "        vertical-align: middle;\n",
       "    }\n",
       "\n",
       "    .dataframe tbody tr th {\n",
       "        vertical-align: top;\n",
       "    }\n",
       "\n",
       "    .dataframe thead th {\n",
       "        text-align: right;\n",
       "    }\n",
       "</style>\n",
       "<table border=\"1\" class=\"dataframe\">\n",
       "  <thead>\n",
       "    <tr style=\"text-align: right;\">\n",
       "      <th></th>\n",
       "      <th>characters</th>\n",
       "      <th>characters_strength</th>\n",
       "    </tr>\n",
       "  </thead>\n",
       "  <tbody>\n",
       "    <tr>\n",
       "      <th>0</th>\n",
       "      <td>kzde5577</td>\n",
       "      <td>1.0</td>\n",
       "    </tr>\n",
       "    <tr>\n",
       "      <th>1</th>\n",
       "      <td>kino3434</td>\n",
       "      <td>1.0</td>\n",
       "    </tr>\n",
       "    <tr>\n",
       "      <th>2</th>\n",
       "      <td>visi7k1yr</td>\n",
       "      <td>1.0</td>\n",
       "    </tr>\n",
       "    <tr>\n",
       "      <th>3</th>\n",
       "      <td>megzy123</td>\n",
       "      <td>1.0</td>\n",
       "    </tr>\n",
       "    <tr>\n",
       "      <th>4</th>\n",
       "      <td>lamborghin1</td>\n",
       "      <td>1.0</td>\n",
       "    </tr>\n",
       "  </tbody>\n",
       "</table>\n",
       "</div>"
      ],
      "text/plain": [
       "    characters  characters_strength\n",
       "0     kzde5577                  1.0\n",
       "1     kino3434                  1.0\n",
       "2    visi7k1yr                  1.0\n",
       "3     megzy123                  1.0\n",
       "4  lamborghin1                  1.0"
      ]
     },
     "execution_count": 2,
     "metadata": {},
     "output_type": "execute_result"
    }
   ],
   "source": [
    "df = pd.read_excel(r\"C:\\Users\\D\\Desktop\\New Assignments  Keys\\Datasets\\Ensemble_Password_Strength.xlsx\")\n",
    "\n",
    "# checking head and null values\n",
    "df.head()"
   ]
  },
  {
   "cell_type": "code",
   "execution_count": 3,
   "id": "37f3f733",
   "metadata": {},
   "outputs": [
    {
     "name": "stdout",
     "output_type": "stream",
     "text": [
      "<class 'pandas.core.frame.DataFrame'>\n",
      "RangeIndex: 1999 entries, 0 to 1998\n",
      "Data columns (total 2 columns):\n",
      " #   Column               Non-Null Count  Dtype  \n",
      "---  ------               --------------  -----  \n",
      " 0   characters           1999 non-null   object \n",
      " 1   characters_strength  1999 non-null   float64\n",
      "dtypes: float64(1), object(1)\n",
      "memory usage: 31.4+ KB\n"
     ]
    }
   ],
   "source": [
    "df.info()"
   ]
  },
  {
   "cell_type": "code",
   "execution_count": 4,
   "id": "d525fc18",
   "metadata": {},
   "outputs": [],
   "source": [
    "# Input and Output Split\n",
    "predictors = pd.get_dummies(df[\"characters\"],drop_first = True)\n",
    "target = df[\"characters_strength\"].astype('int64')"
   ]
  },
  {
   "cell_type": "code",
   "execution_count": 5,
   "id": "196cd2c0",
   "metadata": {},
   "outputs": [],
   "source": [
    "# Train Test partition of the data\n",
    "from sklearn.model_selection import train_test_split\n",
    "x_train, x_test, y_train, y_test = train_test_split(predictors, target, test_size = 0.2, random_state=0)"
   ]
  },
  {
   "cell_type": "code",
   "execution_count": 6,
   "id": "900dd188",
   "metadata": {},
   "outputs": [
    {
     "name": "stdout",
     "output_type": "stream",
     "text": [
      "Confusion-Matrix(Test):\n",
      " [[  0  47]\n",
      " [  0 353]]\n",
      "Accuracy(Test): 0.8825\n",
      "Confusion-Matrix(Train):\n",
      " [[ 237    0]\n",
      " [   0 1362]]\n",
      "Accuracy(Test): 1.0\n"
     ]
    }
   ],
   "source": [
    "########################### Bagging ############################################\n",
    "\n",
    "from sklearn import tree\n",
    "clftree = tree.DecisionTreeClassifier()\n",
    "from sklearn.ensemble import BaggingClassifier\n",
    "\n",
    "\n",
    "bag_clf = BaggingClassifier(base_estimator = clftree, n_estimators = 500,\n",
    "                            bootstrap = True, n_jobs = 1, random_state = 42)\n",
    "\n",
    "bag_clf.fit(x_train, y_train) \n",
    "\n",
    "from sklearn.metrics import accuracy_score, confusion_matrix\n",
    "\n",
    "# Evaluation on Testing Data\n",
    "print(\"Confusion-Matrix(Test):\\n\",confusion_matrix(y_test, bag_clf.predict(x_test)))\n",
    "print(\"Accuracy(Test):\",accuracy_score(y_test, bag_clf.predict(x_test)))\n",
    "\n",
    "# Evaluation on Training Data\n",
    "print(\"Confusion-Matrix(Train):\\n\",confusion_matrix(y_train, bag_clf.predict(x_train)))\n",
    "print(\"Accuracy(Test):\",accuracy_score(y_train, bag_clf.predict(x_train)))"
   ]
  },
  {
   "cell_type": "code",
   "execution_count": 7,
   "id": "fceed996",
   "metadata": {},
   "outputs": [
    {
     "name": "stdout",
     "output_type": "stream",
     "text": [
      "Hard Voting: 0.8825\n",
      "L4: 0.8825\n",
      "L5: 0.1175\n",
      "L6: 0.8825\n",
      "Soft Voting: 0.8825\n"
     ]
    }
   ],
   "source": [
    "########################### Voting ############################################\n",
    "\n",
    "# Import the required libraries\n",
    "from sklearn import datasets, linear_model, svm, neighbors, naive_bayes\n",
    "from sklearn.ensemble import VotingClassifier\n",
    "\n",
    "# Instantiate the learners (classifiers)\n",
    "learner_1 = neighbors.KNeighborsClassifier(n_neighbors=5)\n",
    "learner_2 = linear_model.Perceptron(tol=1e-2, random_state=0)\n",
    "learner_3 = svm.SVC(gamma=0.001)\n",
    "\n",
    "# Instantiate the voting classifier\n",
    "voting = VotingClassifier([('KNN', learner_1),\n",
    "                           ('Prc', learner_2),\n",
    "                           ('SVM', learner_3)])\n",
    "\n",
    "# Fit classifier with the training data\n",
    "voting.fit(x_train, y_train)\n",
    "\n",
    "# Predict the most voted class\n",
    "hard_predictions = voting.predict(x_test)\n",
    "\n",
    "# Accuracy of hard voting\n",
    "print('Hard Voting:', accuracy_score(y_test, hard_predictions))\n",
    "\n",
    "\n",
    "\n",
    "#################\n",
    "\n",
    "# Soft Voting # \n",
    "# Instantiate the learners (classifiers)\n",
    "learner_4 = neighbors.KNeighborsClassifier(n_neighbors = 5)\n",
    "learner_5 = naive_bayes.GaussianNB()\n",
    "learner_6 = svm.SVC(gamma = 0.001, probability = True)\n",
    "\n",
    "# Instantiate the voting classifier\n",
    "voting = VotingClassifier([('KNN', learner_4),\n",
    "                           ('NB', learner_5),\n",
    "                           ('SVM', learner_6)],\n",
    "                            voting = 'soft')\n",
    "\n",
    "# Fit classifier with the training data\n",
    "voting.fit(x_train, y_train)\n",
    "learner_4.fit(x_train, y_train)\n",
    "learner_5.fit(x_train, y_train)\n",
    "learner_6.fit(x_train, y_train)\n",
    "\n",
    "# Predict the most probable class\n",
    "hard_predictions = voting.predict(x_test)\n",
    "\n",
    "# Get the base learner predictions\n",
    "predictions_4 = learner_4.predict(x_test)\n",
    "predictions_5 = learner_5.predict(x_test)\n",
    "predictions_6 = learner_6.predict(x_test)\n",
    "\n",
    "# Accuracies of base learners\n",
    "print('L4:', accuracy_score(y_test, predictions_4)) \n",
    "print('L5:', accuracy_score(y_test, predictions_5)) \n",
    "print('L6:', accuracy_score(y_test, predictions_6)) \n",
    "# Accuracy of Soft voting\n",
    "print('Soft Voting:', accuracy_score(y_test, hard_predictions)) "
   ]
  },
  {
   "cell_type": "code",
   "execution_count": 10,
   "id": "5357f000",
   "metadata": {},
   "outputs": [
    {
     "name": "stdout",
     "output_type": "stream",
     "text": [
      "AdaBoost\n",
      "Confusion-Matrix(Test):\n",
      " [[  0  47]\n",
      " [  0 353]]\n",
      "Accuracy(Test): 0.8825\n",
      "Confusion-Matrix(Train):\n",
      " [[ 237    0]\n",
      " [   0 1362]]\n",
      "Accuracy(Test): 1.0\n",
      "Gradient Boost\n",
      "Confusion-Matrix(Test):\n",
      " [[  0  47]\n",
      " [  0 353]]\n",
      "Accuracy(Test): 0.8825\n",
      "Confusion-Matrix(Train):\n",
      " [[   0  237]\n",
      " [   0 1362]]\n",
      "Accuracy(Test): 0.851782363977486\n"
     ]
    }
   ],
   "source": [
    "###############################################################################\n",
    "\n",
    "########################## Adaboost ##########################################\n",
    "\n",
    "from sklearn.ensemble import AdaBoostClassifier\n",
    "\n",
    "ada_clf = AdaBoostClassifier(learning_rate = 0.02, n_estimators = 5000)\n",
    "\n",
    "ada_clf.fit(x_train, y_train)\n",
    "print(\"AdaBoost\")\n",
    "# Evaluation on Testing Data\n",
    "print(\"Confusion-Matrix(Test):\\n\",confusion_matrix(y_test, ada_clf.predict(x_test)))\n",
    "print(\"Accuracy(Test):\",accuracy_score(y_test, ada_clf.predict(x_test)))\n",
    "\n",
    "# Evaluation on Training Data\n",
    "print(\"Confusion-Matrix(Train):\\n\",confusion_matrix(y_train, ada_clf.predict(x_train)))\n",
    "print(\"Accuracy(Test):\",accuracy_score(y_train, ada_clf.predict(x_train)))\n",
    "\n",
    "\n",
    "################################################################################\n",
    "\n",
    "##################################### Gradiant boost ##########################\n",
    "\n",
    "\n",
    "from sklearn.ensemble import GradientBoostingClassifier\n",
    "\n",
    "boost_clf = GradientBoostingClassifier()\n",
    "\n",
    "boost_clf.fit(x_train, y_train)\n",
    "print(\"Gradient Boost\")\n",
    "# Evaluation on Testing Data\n",
    "print(\"Confusion-Matrix(Test):\\n\",confusion_matrix(y_test, boost_clf.predict(x_test)))\n",
    "print(\"Accuracy(Test):\",accuracy_score(y_test, boost_clf.predict(x_test)))\n",
    "\n",
    "# Evaluation on Training Data\n",
    "print(\"Confusion-Matrix(Train):\\n\",confusion_matrix(y_train, boost_clf.predict(x_train)))\n",
    "print(\"Accuracy(Test):\",accuracy_score(y_train, boost_clf.predict(x_train)))"
   ]
  },
  {
   "cell_type": "code",
   "execution_count": 13,
   "id": "d76a4516",
   "metadata": {},
   "outputs": [
    {
     "name": "stdout",
     "output_type": "stream",
     "text": [
      ">lr 0.852 (0.003)\n",
      ">knn 0.852 (0.003)\n",
      ">cart 0.852 (0.003)\n",
      ">svm 0.852 (0.003)\n",
      ">bayes 0.148 (0.003)\n"
     ]
    },
    {
     "data": {
      "image/png": "[encoded data removed]",
      "text/plain": [
       "<Figure size 432x288 with 1 Axes>"
      ]
     },
     "metadata": {
      "needs_background": "light"
     },
     "output_type": "display_data"
    }
   ],
   "source": [
    "##################################### Staking #################################\n",
    "# compare standalone models for binary classification\n",
    "from numpy import mean\n",
    "from numpy import std\n",
    "\n",
    "from sklearn.model_selection import cross_val_score\n",
    "from sklearn.model_selection import RepeatedStratifiedKFold\n",
    "from sklearn.linear_model import LogisticRegression\n",
    "from sklearn.neighbors import KNeighborsClassifier\n",
    "from sklearn.tree import DecisionTreeClassifier\n",
    "from sklearn.svm import SVC\n",
    "from sklearn.naive_bayes import GaussianNB\n",
    "from matplotlib import pyplot\n",
    "\n",
    "X = x_train\n",
    "y = y_train\n",
    "# get a list of models to evaluate\n",
    "def get_models():\n",
    "\tmodels = dict()\n",
    "\tmodels['lr'] = LogisticRegression()\n",
    "\tmodels['knn'] = KNeighborsClassifier()\n",
    "\tmodels['cart'] = DecisionTreeClassifier()\n",
    "\tmodels['svm'] = SVC()\n",
    "\tmodels['bayes'] = GaussianNB()\n",
    "\treturn models\n",
    "\n",
    "# evaluate a given model using cross-validation\n",
    "def evaluate_model(model, X, y):\n",
    "\tcv = RepeatedStratifiedKFold(n_splits=10, n_repeats=3, random_state=1)\n",
    "\tscores = cross_val_score(model, X, y, scoring='accuracy', cv=cv, n_jobs=-1, error_score='raise')\n",
    "\treturn scores\n",
    "\n",
    "# get the models to evaluate\n",
    "models = get_models()\n",
    "# evaluate the models and store results\n",
    "results, names = list(), list()\n",
    "for name, model in models.items():\n",
    "\tscores = evaluate_model(model, X, y)\n",
    "\tresults.append(scores)\n",
    "\tnames.append(name)\n",
    "\tprint('>%s %.3f (%.3f)' % (name, mean(scores), std(scores)))\n",
    "# plot model performance for comparison\n",
    "pyplot.boxplot(results, labels=names, showmeans=True)\n",
    "pyplot.show()"
   ]
  },
  {
   "cell_type": "code",
   "execution_count": 14,
   "id": "ef8ead10",
   "metadata": {},
   "outputs": [
    {
     "name": "stdout",
     "output_type": "stream",
     "text": [
      "Confusion-Matrix(Test):\n",
      " [[  0  47]\n",
      " [  0 353]]\n",
      "Accuracy(Test): 0.8825\n",
      "Confusion-Matrix(Train):\n",
      " [[   0  237]\n",
      " [   0 1362]]\n",
      "Accuracy(Train): 0.851782363977486\n"
     ]
    }
   ],
   "source": [
    "# make a prediction with a stacking ensemble\n",
    "from sklearn.ensemble import StackingClassifier\n",
    "# define dataset\n",
    "# define the base models\n",
    "level0 = list()\n",
    "level0.append(('lr', LogisticRegression()))\n",
    "level0.append(('knn', KNeighborsClassifier()))\n",
    "level0.append(('cart', DecisionTreeClassifier()))\n",
    "level0.append(('svm', SVC()))\n",
    "level0.append(('bayes', GaussianNB()))\n",
    "# define meta learner model\n",
    "level1 = LogisticRegression()\n",
    "# define the stacking ensemble\n",
    "model = StackingClassifier(estimators=level0, final_estimator=level1, cv=5)\n",
    "\n",
    "# fit the model on all available data\n",
    "model.fit(X, y)\n",
    "\n",
    "# make a prediction on test data\n",
    "yhat = model.predict(x_test)\n",
    "\n",
    "# Evaluation on Testing Data\n",
    "print(\"Confusion-Matrix(Test):\\n\",confusion_matrix(y_test, yhat))\n",
    "print(\"Accuracy(Test):\",accuracy_score(y_test,yhat))\n",
    "\n",
    "\n",
    "# Evaluation on Training Data\n",
    "print(\"Confusion-Matrix(Train):\\n\",confusion_matrix(y_train, model.predict(x_train)))\n",
    "print(\"Accuracy(Train):\",accuracy_score(y_train, model.predict(x_train)))"
   ]
  },
  {
   "cell_type": "code",
   "execution_count": null,
   "id": "3fa0a216",
   "metadata": {},
   "outputs": [],
   "source": []
  },
  {
   "cell_type": "code",
   "execution_count": null,
   "id": "7245e524",
   "metadata": {},
   "outputs": [],
   "source": []
  },
  {
   "cell_type": "code",
   "execution_count": null,
   "id": "31d5575b",
   "metadata": {},
   "outputs": [],
   "source": []
  }
 ],
 "metadata": {
  "kernelspec": {
   "display_name": "Python 3 (ipykernel)",
   "language": "python",
   "name": "python3"
  },
  "language_info": {
   "codemirror_mode": {
    "name": "ipython",
    "version": 3
   },
   "file_extension": ".py",
   "mimetype": "text/x-python",
   "name": "python",
   "nbconvert_exporter": "python",
   "pygments_lexer": "ipython3",
   "version": "3.9.7"
  }
 },
 "nbformat": 4,
 "nbformat_minor": 5
}
